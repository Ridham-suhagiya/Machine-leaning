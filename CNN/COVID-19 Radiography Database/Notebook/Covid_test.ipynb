{
  "nbformat": 4,
  "nbformat_minor": 0,
  "metadata": {
    "colab": {
      "name": "Covid_test.ipynb",
      "provenance": [],
      "collapsed_sections": [],
      "authorship_tag": "ABX9TyOWodbuEY5Qs3miB93Q20ZE",
      "include_colab_link": true
    },
    "kernelspec": {
      "name": "python3",
      "display_name": "Python 3"
    },
    "language_info": {
      "name": "python"
    }
  },
  "cells": [
    {
      "cell_type": "markdown",
      "metadata": {
        "id": "view-in-github",
        "colab_type": "text"
      },
      "source": [
        "<a href=\"https://colab.research.google.com/github/Ridham-suhagiya/Machine-learning/blob/master/COVID-19%20Radiography%20Database/Notebook/Covid_test.ipynb\" target=\"_parent\"><img src=\"https://colab.research.google.com/assets/colab-badge.svg\" alt=\"Open In Colab\"/></a>"
      ]
    },
    {
      "cell_type": "code",
      "execution_count": 1,
      "metadata": {
        "id": "Qlr4IBuhRKdv"
      },
      "outputs": [],
      "source": [
        "!pip install -q kaggle"
      ]
    },
    {
      "cell_type": "code",
      "source": [
        "import os \n",
        "os.environ['KAGGLE_CONFIG_DIR'] = '/content'"
      ],
      "metadata": {
        "id": "KNsyq1usVALC"
      },
      "execution_count": 2,
      "outputs": []
    },
    {
      "cell_type": "code",
      "source": [
        "!mkdir ~/.kaggle"
      ],
      "metadata": {
        "id": "MEsVD5hzRStG"
      },
      "execution_count": 3,
      "outputs": []
    },
    {
      "cell_type": "code",
      "source": [
        "!cp /content/kaggle.json ~/.kaggle\n"
      ],
      "metadata": {
        "id": "ZdGXSWH_SAaR"
      },
      "execution_count": 4,
      "outputs": []
    },
    {
      "cell_type": "code",
      "source": [
        "! kaggle datasets list"
      ],
      "metadata": {
        "colab": {
          "base_uri": "https://localhost:8080/"
        },
        "id": "heymQx9LUHNq",
        "outputId": "2988b0a2-dab4-4385-a66f-de4f0e806d67"
      },
      "execution_count": 5,
      "outputs": [
        {
          "output_type": "stream",
          "name": "stdout",
          "text": [
            "Warning: Your Kaggle API key is readable by other users on this system! To fix this, you can run 'chmod 600 /content/kaggle.json'\n",
            "Warning: Looks like you're using an outdated API Version, please consider updating (server 1.5.12 / client 1.5.4)\n",
            "ref                                                         title                                              size  lastUpdated          downloadCount  \n",
            "----------------------------------------------------------  ------------------------------------------------  -----  -------------------  -------------  \n",
            "gpreda/reddit-vaccine-myths                                 Reddit Vaccine Myths                              237KB  2021-12-12 11:59:54          18366  \n",
            "crowww/a-large-scale-fish-dataset                           A Large Scale Fish Dataset                          3GB  2021-04-28 17:03:01          11041  \n",
            "imsparsh/musicnet-dataset                                   MusicNet Dataset                                   22GB  2021-02-18 14:12:19           5622  \n",
            "dhruvildave/wikibooks-dataset                               Wikibooks Dataset                                   2GB  2021-10-22 10:48:21           3916  \n",
            "nickuzmenkov/nih-chest-xrays-tfrecords                      NIH Chest X-rays TFRecords                         11GB  2021-03-09 04:49:23           1950  \n",
            "promptcloud/careerbuilder-job-listing-2020                  Careerbuilder Job Listing 2020                     42MB  2021-03-05 06:59:52           3069  \n",
            "mathurinache/twitter-edge-nodes                             Twitter Edge Nodes                                342MB  2021-03-08 06:43:04           1472  \n",
            "fatiimaezzahra/famous-iconic-women                          Famous Iconic Women                               838MB  2021-02-28 14:56:00           2159  \n",
            "mathurinache/the-lj-speech-dataset                          The LJ Speech Dataset                               3GB  2021-02-15 09:19:54            583  \n",
            "coloradokb/dandelionimages                                  DandelionImages                                     4GB  2021-02-19 20:03:47           1150  \n",
            "alsgroup/end-als                                            End ALS Kaggle Challenge                           12GB  2021-04-08 12:16:37           1195  \n",
            "simiotic/github-code-snippets                               GitHub Code Snippets                                7GB  2021-03-03 11:34:39            569  \n",
            "imsparsh/accentdb-core-extended                             AccentDB - Core & Extended                          6GB  2021-02-17 14:22:54            208  \n",
            "stuartjames/lights                                          LightS: Light Specularity Dataset                  18GB  2021-02-18 14:32:26            269  \n",
            "nickuzmenkov/ranzcr-clip-kfold-tfrecords                    RANZCR CLiP KFold TFRecords                         2GB  2021-02-21 13:29:51            176  \n",
            "landrykezebou/lvzhdr-tone-mapping-benchmark-dataset-tmonet  LVZ-HDR Tone Mapping Benchmark Dataset (TMO-Net)   24GB  2021-03-01 05:03:40            275  \n",
            "datasnaek/youtube-new                                       Trending YouTube Video Statistics                 201MB  2019-06-03 00:56:47         162540  \n",
            "zynicide/wine-reviews                                       Wine Reviews                                       51MB  2017-11-27 17:08:04         151928  \n",
            "residentmario/ramen-ratings                                 Ramen Ratings                                      40KB  2018-01-11 16:04:39          31544  \n",
            "datasnaek/chess                                             Chess Game Dataset (Lichess)                        3MB  2017-09-04 03:09:09          26687  \n"
          ]
        }
      ]
    },
    {
      "cell_type": "code",
      "source": [
        "!kaggle datasets download -d tawsifurrahman/covid19-radiography-database"
      ],
      "metadata": {
        "colab": {
          "base_uri": "https://localhost:8080/"
        },
        "id": "-v705HW5USiN",
        "outputId": "8b94a893-e8a3-4c7c-84a7-1a2ff28f2d1c"
      },
      "execution_count": 6,
      "outputs": [
        {
          "output_type": "stream",
          "name": "stdout",
          "text": [
            "Warning: Your Kaggle API key is readable by other users on this system! To fix this, you can run 'chmod 600 /content/kaggle.json'\n",
            "Downloading covid19-radiography-database.zip to /content\n",
            " 98% 733M/745M [00:04<00:00, 147MB/s]\n",
            "100% 745M/745M [00:04<00:00, 160MB/s]\n"
          ]
        }
      ]
    },
    {
      "cell_type": "code",
      "source": [
        "!chmod 600 /content/kaggle.json"
      ],
      "metadata": {
        "id": "JGYnqDTaV1-o"
      },
      "execution_count": 7,
      "outputs": []
    },
    {
      "cell_type": "code",
      "source": [
        "!unzip covid19-radiography-database.zip"
      ],
      "metadata": {
        "id": "mGemUSfpYAYW"
      },
      "execution_count": null,
      "outputs": []
    },
    {
      "cell_type": "markdown",
      "source": [
        "Making directories and files for dividing the dataset into testing and training data "
      ],
      "metadata": {
        "id": "Go_7eBxpaF50"
      }
    },
    {
      "cell_type": "code",
      "source": [
        "#Importing all the necessary libraries\n",
        "import cv2 as cv\n",
        "import pandas as pd\n",
        "from os import listdir\n",
        "import pickle"
      ],
      "metadata": {
        "id": "huKrYTwgYGnl"
      },
      "execution_count": 9,
      "outputs": []
    },
    {
      "cell_type": "code",
      "source": [
        "from os import makedirs # Using os modul to execut the things more confortably.\n",
        "\n",
        "#destination has the location of were the data is present\n",
        "destination = '/content/COVID-19_Radiography_Dataset/'\n",
        "#To segregate data into test and train subdirs is created\n",
        "subdirs = ['Train_data/','Test_data/']\n",
        "for subdir in subdirs:\n",
        "#the types of data we have\n",
        "  labeldirs = ['Covid/','Opacity/','Normal/','Pneumonia/']\n",
        "  for label in labeldirs:\n",
        "    #storing each type of data directory perticularly in train and test directories\n",
        "    newdir = destination + subdir + label \n",
        "    makedirs(newdir)\n",
        "\n"
      ],
      "metadata": {
        "id": "xRiyA1szZMtV"
      },
      "execution_count": 10,
      "outputs": []
    },
    {
      "cell_type": "code",
      "source": [
        "from random import random\n",
        "from shutil import copyfile\n",
        "from random import seed\n",
        "from os import listdir\n",
        "#Seed(1) is used to have the same data everytime we run the code.\n",
        "seed(1)\n",
        "val = 0.25\n",
        "label_train = []\n",
        "label_test = []\n",
        "#copying the training data images our train and test directories.\n",
        "dir = 'Train_data/'\n",
        "for folder in listdir(destination):\n",
        "    if folder  in ['Normal','COVID','Lung_Opacity','Viral Pneumonia']:\n",
        "        \n",
        "        for file in listdir(destination + folder):\n",
        "          if file.endswith('png'):\n",
        "            src = destination + folder +'/' +file \n",
        "            value = random()\n",
        "            # storing 25% of data into test directory.\n",
        "            if value < val:\n",
        "                dir = 'Test_data/'\n",
        "                \n",
        "            # Copying the data into the new directories created.\n",
        "            if folder == 'COVID':\n",
        "                des = destination + dir + 'Covid/' +file\n",
        "                if dir =='Test_data/':\n",
        "                  label_test.append(0)\n",
        "                else:\n",
        "                  label_train.append(0)\n",
        "                copyfile(src,des)\n",
        "            elif folder == 'Lung_Opacity':\n",
        "                des = destination + dir + 'Opacity/' + file \n",
        "                if dir =='Test_data/':\n",
        "                  label_test.append(1)\n",
        "                else:\n",
        "                  label_train.append(1)\n",
        "                copyfile(src,des)\n",
        "            elif folder =='Normal':\n",
        "                des = destination + dir + 'Normal/' +file\n",
        "                if dir =='Test_data/':\n",
        "                  label_test.append(2)\n",
        "                else:\n",
        "                  label_train.append(2)\n",
        "                copyfile(src,des)\n",
        "            else:\n",
        "                des = destination + dir + 'Pneumonia/' + file\n",
        "                if dir =='Test_data/':\n",
        "                  label_test.append(3)\n",
        "                else:\n",
        "                  label_train.append(3)\n",
        "                copyfile(src,des)\n",
        "            dir = 'Train_data/'\n"
      ],
      "metadata": {
        "id": "lrZTTFXSUUUP"
      },
      "execution_count": 11,
      "outputs": []
    },
    {
      "cell_type": "markdown",
      "source": [
        "Generating the training and testing data"
      ],
      "metadata": {
        "id": "oz6UXH5zavNA"
      }
    },
    {
      "cell_type": "code",
      "source": [
        "from keras.preprocessing.image import ImageDataGenerator\n",
        "datogen =ImageDataGenerator(rescale = 1.0/255.0)    # data generator object creation\n",
        "#Training data formed from the datogen object\n",
        "train_it = datogen.flow_from_directory('/content/COVID-19_Radiography_Dataset/Train_data/',target_size = (299,299),class_mode = 'categorical',color_mode = 'rgb',batch_size = 64) \n",
        "#Testing data formed from the datogen object\n",
        "test_it = datogen.flow_from_directory('/content/COVID-19_Radiography_Dataset/Test_data/',target_size = (299,299),class_mode = 'categorical',color_mode = 'rgb',batch_size = 64)"
      ],
      "metadata": {
        "id": "0R2_wOmyUZdC",
        "colab": {
          "base_uri": "https://localhost:8080/"
        },
        "outputId": "bee09922-27c9-4763-937f-637545b3f105"
      },
      "execution_count": 12,
      "outputs": [
        {
          "output_type": "stream",
          "name": "stdout",
          "text": [
            "Found 15819 images belonging to 4 classes.\n",
            "Found 5346 images belonging to 4 classes.\n"
          ]
        }
      ]
    },
    {
      "cell_type": "code",
      "source": [
        "#The number of classes detected by the datagenerator object\n",
        "train_it.class_indices"
      ],
      "metadata": {
        "colab": {
          "base_uri": "https://localhost:8080/"
        },
        "id": "rXzFB4Kltt-k",
        "outputId": "485efc7a-de8d-4c7b-cb54-2bc1bc0836bb"
      },
      "execution_count": 13,
      "outputs": [
        {
          "output_type": "execute_result",
          "data": {
            "text/plain": [
              "{'Covid': 0, 'Normal': 1, 'Opacity': 2, 'Pneumonia': 3}"
            ]
          },
          "metadata": {},
          "execution_count": 13
        }
      ]
    },
    {
      "cell_type": "code",
      "source": [
        "!pip install tf"
      ],
      "metadata": {
        "colab": {
          "base_uri": "https://localhost:8080/"
        },
        "id": "f_9DwEbGqQVj",
        "outputId": "de402794-647f-441b-b94e-d97ef2b04930"
      },
      "execution_count": 14,
      "outputs": [
        {
          "output_type": "stream",
          "name": "stdout",
          "text": [
            "Collecting tf\n",
            "  Downloading tf-1.0.0.tar.gz (620 bytes)\n",
            "Building wheels for collected packages: tf\n",
            "  Building wheel for tf (setup.py) ... \u001b[?25l\u001b[?25hdone\n",
            "  Created wheel for tf: filename=tf-1.0.0-py3-none-any.whl size=1285 sha256=a06d47e68f42c600b34a734ae6f4faed7750b721e9e045278967f96c3498c7de\n",
            "  Stored in directory: /root/.cache/pip/wheels/db/c7/58/cca67875b41ff853d3fdaa20b54a780ef2e045fbcacaef1ee3\n",
            "Successfully built tf\n",
            "Installing collected packages: tf\n",
            "Successfully installed tf-1.0.0\n"
          ]
        }
      ]
    },
    {
      "cell_type": "code",
      "source": [
        "#importing all the deep learning libraries\n",
        "from keras.models import Sequential\n",
        "from keras.layers import Conv2D\n",
        "from keras.layers import MaxPooling2D\n",
        "from keras.layers import Dense\n",
        "from keras.layers import Flatten\n",
        "from keras.layers import Dropout\n",
        "from tensorflow.keras.optimizers import SGD\n",
        "from tensorflow.keras.callbacks import EarlyStopping,ModelCheckpoint"
      ],
      "metadata": {
        "id": "I_8gTOH5ts_E"
      },
      "execution_count": 15,
      "outputs": []
    },
    {
      "cell_type": "code",
      "source": [
        "#Model \n",
        "def prepare_model():\n",
        "  model = Sequential()\n",
        "  model.add(Conv2D(32,(3,3),activation = 'relu',kernel_initializer = 'he_uniform',padding = 'same',input_shape = (299,299,3)))\n",
        "  model.add(MaxPooling2D((2,2)))\n",
        "  model.add(Dropout(0.6))\n",
        "  model.add(Conv2D(64,(3,3),activation = 'relu',kernel_initializer = 'he_uniform',padding = 'same'))\n",
        "  model.add(MaxPooling2D((2,2)))\n",
        "  model.add(Dropout(0.6))\n",
        "  model.add(Conv2D(128,(3,3),activation = 'relu',kernel_initializer = 'he_uniform',padding = 'same'))\n",
        "  model.add(MaxPooling2D((2,2)))\n",
        "  model.add(Dropout(0.6))\n",
        "  model.add(Flatten())\n",
        "  model.add(Dense(256,activation = 'relu',kernel_initializer = 'he_uniform'))\n",
        "  model.add(Dropout(0.4))\n",
        "  model.add(Dense(4, activation = 'sigmoid'))\n",
        "  opt = SGD(learning_rate = 0.004,momentum = 0.8)\n",
        "  model.compile(optimizer = opt , loss = 'categorical_crossentropy',metrics = ['accuracy'])\n",
        "  return model\n",
        "early_stop = EarlyStopping(monitor='val_loss', \n",
        "                               mode='min', \n",
        "                               patience = 5 ,\n",
        "                               restore_best_weights=True)\n",
        "mc = ModelCheckpoint('cnn_model.h5', monitor='val_loss', mode='min', verbose=1, save_best_only=True)\n",
        "\n",
        "\n"
      ],
      "metadata": {
        "id": "FXiZcVVvdYcW"
      },
      "execution_count": 16,
      "outputs": []
    },
    {
      "cell_type": "code",
      "source": [
        "#Plot of the models performance \n",
        "import matplotlib.pyplot as plt\n",
        "def plotLearningCurve(history,epochs):\n",
        "  epochRange = range(1,epochs+1)\n",
        "  fig, ax = plt.subplots(1,2,figsize=(20,10))\n",
        "  ax[0].plot(epochRange,history.history['accuracy'],'b',label = 'Training Accuracy')\n",
        "  ax[0].plot(epochRange,history.history['val_accuracy'],'r',label = 'Validation Accuracy')\n",
        "  ax[0].set_title('Training and Validation accuracy')\n",
        "  ax[0].set_xlabel('Epoch', fontsize = 20)\n",
        "  ax[0].set_ylabel('Accuracy', fontsize = 20)\n",
        "  ax[0].legend()\n",
        "  ax[0].grid(color='gray', linestyle='--')\n",
        "  ax[1].plot(epochRange,history.history['loss'],'b',label = 'Training Loss')\n",
        "  ax[1].plot(epochRange,history.history['val_loss'],'r',label = 'Validation Loss')\n",
        "  ax[1].set_title('Training and Validation loss')\n",
        "  ax[1].set_xlabel('Epoch', fontsize = 20)\n",
        "  ax[1].set_ylabel('Loss', fontsize = 20)\n",
        "  ax[1].legend()\n",
        "  ax[1].grid(color='gray', linestyle='--')\n",
        "  plt.show()\n"
      ],
      "metadata": {
        "id": "xrWVxKx9a8mD"
      },
      "execution_count": 17,
      "outputs": []
    },
    {
      "cell_type": "code",
      "source": [
        "# User defined function to manually check the performance of the model \n",
        "from keras.preprocessing import image \n",
        "import numpy as np\n",
        "def model_tester(model):\n",
        "  from random import randint\n",
        "  dct = {1:'Covid',2:'Opacity',3:'Normal',4:'Pneumonia'}\n",
        "  dct1 = {1:'COVID',2:'Lung_Opacity',3:'Normal', 4:'Viral Pneumonia'}\n",
        "  \n",
        "  for i in range(10):\n",
        "    path = '/content/COVID-19_Radiography_Dataset/'\n",
        "    virus = randint(1,4)\n",
        "    imge = randint(1,1000)\n",
        "    path = path   + dct1[virus]+ '/'+ dct1[virus] + '-' + str(imge) +'.png'\n",
        "    img = image.load_img(path)\n",
        "    img = image.img_to_array(img)\n",
        "    img = np.array([img])\n",
        "    img.shape\n",
        "\n",
        "    print(dct[virus], \" : \",model.predict(img))\n",
        "    "
      ],
      "metadata": {
        "id": "LP4c25W_0WFf"
      },
      "execution_count": 33,
      "outputs": []
    },
    {
      "cell_type": "code",
      "source": [
        "# Saving the model using pickle modul\n",
        "def save_model(model):\n",
        "  import pickle\n",
        "  loc = '/content/'\n",
        "  model_1 = open('model_1','wb')\n",
        "  pickle.dump(model,model_1)\n",
        "  model_1.close()"
      ],
      "metadata": {
        "id": "eJ0EzRDL9KLw"
      },
      "execution_count": 19,
      "outputs": []
    },
    {
      "cell_type": "code",
      "source": [
        "datogen =ImageDataGenerator(rescale = 1.0/255.0)"
      ],
      "metadata": {
        "id": "25dyp849nXlU"
      },
      "execution_count": 20,
      "outputs": []
    },
    {
      "cell_type": "markdown",
      "source": [
        "As our model as unbalanced data we are trying to oversample the other categories to improve the performance of the model"
      ],
      "metadata": {
        "id": "5JhTqVSpb98T"
      }
    },
    {
      "cell_type": "code",
      "source": [
        "# Oversampling Covid data \n",
        "\n",
        "from random import randint\n",
        "num = randint(1,3000)\n",
        "path = f'/content/COVID-19_Radiography_Dataset/COVID/COVID-{str(num)}.png'\n",
        "img = image.load_img(path)\n",
        "img = image.img_to_array(img)\n",
        "img = np.array([img])\n",
        "img.shape\n",
        "dir ='/content/COVID-19_Radiography_Dataset/Train_data/Covid/'\n",
        "prefix = 'COVID'\n",
        "limit = 4800\n",
        "i = 0\n",
        "for batch in datogen.flow(img,batch_size = 1,save_to_dir = dir,save_prefix = prefix,save_format = 'png'):\n",
        "  num = randint(1,3000)\n",
        "  path = f'/content/COVID-19_Radiography_Dataset/COVID/COVID-{str(num)}.png'\n",
        "  img = image.load_img(path)\n",
        "  img = image.img_to_array(img)\n",
        "  img = np.array([img])\n",
        "  if i > limit:\n",
        "    break\n",
        "  i+=1"
      ],
      "metadata": {
        "id": "eeSvVWfunwO_"
      },
      "execution_count": 21,
      "outputs": []
    },
    {
      "cell_type": "code",
      "source": [
        "# Oversampling Lung Opacity data\n",
        "num = randint(1,4000)\n",
        "path = f'/content/COVID-19_Radiography_Dataset/Lung_Opacity/Lung_Opacity-{str(num)}.png'\n",
        "img = image.load_img(path)\n",
        "img = image.img_to_array(img)\n",
        "img = np.array([img])\n",
        "img.shape\n",
        "dir ='/content/COVID-19_Radiography_Dataset/Train_data/Opacity/'\n",
        "prefix = 'Lung_Opacity'\n",
        "limit = 3000\n",
        "i = 0\n",
        "for batch in datogen.flow(img,batch_size = 1,save_to_dir = dir,save_prefix = prefix,save_format = 'png'):\n",
        "  num = randint(1,1000)\n",
        "  path = f'/content/COVID-19_Radiography_Dataset/Lung_Opacity/Lung_Opacity-{str(num)}.png'\n",
        "  img = image.load_img(path)\n",
        "  img = image.img_to_array(img)\n",
        "  img = np.array([img])\n",
        "  if i > limit:\n",
        "    break\n",
        "  i+=1"
      ],
      "metadata": {
        "id": "aW2hC0iio-KT"
      },
      "execution_count": 22,
      "outputs": []
    },
    {
      "cell_type": "code",
      "source": [
        "# Over sampling pneumonia\n",
        "num = randint(1,1000)\n",
        "path = f'/content/COVID-19_Radiography_Dataset/Viral Pneumonia/Viral Pneumonia-{str(num)}.png'\n",
        "img = image.load_img(path)\n",
        "img = image.img_to_array(img)\n",
        "img = np.array([img])\n",
        "\n",
        "dir ='/content/COVID-19_Radiography_Dataset/Train_data/Pneumonia/'\n",
        "prefix = 'Viral Pneumonia'\n",
        "limit = 6500\n",
        "i = 0\n",
        "for batch in datogen.flow(img,batch_size = 1,save_to_dir = dir,save_prefix = prefix,save_format = 'png'):\n",
        "  num = randint(1,1000)\n",
        "  path = f'/content/COVID-19_Radiography_Dataset/Viral Pneumonia/Viral Pneumonia-{str(num)}.png'\n",
        "  img = image.load_img(path)\n",
        "  img = image.img_to_array(img)\n",
        "  img = np.array([img])\n",
        "  \n",
        "  if i > limit:\n",
        "    break\n",
        "  i+=1"
      ],
      "metadata": {
        "id": "E52gOF5HqfYD"
      },
      "execution_count": 23,
      "outputs": []
    },
    {
      "cell_type": "code",
      "source": [
        "#Model traning and testing \n",
        "model2 = prepare_model()  # model created\n",
        "#Traning of model with 5 epochs and batch size of 64\n",
        "training = model2.fit(train_it,validation_data= test_it,epochs = 5 ,verbose = 2 ,batch_size = 64,callbacks = [early_stop,mc])\n",
        "\n",
        "epoches = len(training.history['loss'])\n",
        "print('test_accuracy: ',model2.evaluate(test_it)) \n",
        "print('train_accuracy: ',model2.evaluate(train_it))"
      ],
      "metadata": {
        "id": "whAH_vmfsU1A",
        "colab": {
          "base_uri": "https://localhost:8080/"
        },
        "outputId": "8278ec00-cbce-4cf5-93ff-a2456709d195"
      },
      "execution_count": 24,
      "outputs": [
        {
          "output_type": "stream",
          "name": "stdout",
          "text": [
            "Epoch 1/5\n",
            "\n",
            "Epoch 00001: val_loss improved from inf to 1.20642, saving model to cnn_model.h5\n",
            "248/248 - 2886s - loss: 3.8141 - accuracy: 0.4732 - val_loss: 1.2064 - val_accuracy: 0.4744 - 2886s/epoch - 12s/step\n",
            "Epoch 2/5\n",
            "\n",
            "Epoch 00002: val_loss improved from 1.20642 to 1.19474, saving model to cnn_model.h5\n",
            "248/248 - 2902s - loss: 1.1905 - accuracy: 0.4840 - val_loss: 1.1947 - val_accuracy: 0.4744 - 2902s/epoch - 12s/step\n",
            "Epoch 3/5\n",
            "\n",
            "Epoch 00003: val_loss improved from 1.19474 to 0.96582, saving model to cnn_model.h5\n",
            "248/248 - 2936s - loss: 1.0733 - accuracy: 0.5254 - val_loss: 0.9658 - val_accuracy: 0.6077 - 2936s/epoch - 12s/step\n",
            "Epoch 4/5\n",
            "\n",
            "Epoch 00004: val_loss improved from 0.96582 to 0.81479, saving model to cnn_model.h5\n",
            "248/248 - 2935s - loss: 0.8353 - accuracy: 0.6549 - val_loss: 0.8148 - val_accuracy: 0.6973 - 2935s/epoch - 12s/step\n",
            "Epoch 5/5\n",
            "\n",
            "Epoch 00005: val_loss improved from 0.81479 to 0.74726, saving model to cnn_model.h5\n",
            "248/248 - 3032s - loss: 0.7328 - accuracy: 0.7048 - val_loss: 0.7473 - val_accuracy: 0.7331 - 3032s/epoch - 12s/step\n",
            "84/84 [==============================] - 236s 3s/step - loss: 0.7473 - accuracy: 0.7331\n",
            "test_accuracy:  [0.7472622394561768, 0.7330714464187622]\n",
            "248/248 [==============================] - 704s 3s/step - loss: 0.7433 - accuracy: 0.7474\n",
            "train_accuracy:  [0.7433390617370605, 0.7473923563957214]\n"
          ]
        }
      ]
    },
    {
      "cell_type": "code",
      "source": [
        "#the plot of model's performance\n",
        "plotLearningCurve(training,epoches)"
      ],
      "metadata": {
        "id": "WfB2hWUWsaF1",
        "colab": {
          "base_uri": "https://localhost:8080/",
          "height": 604
        },
        "outputId": "8ff3b7c8-21d7-46d8-9310-24037c3708e8"
      },
      "execution_count": 25,
      "outputs": [
        {
          "output_type": "display_data",
          "data": {
            "image/png": "[encoded data removed]",
            "text/plain": [
              "<Figure size 1440x720 with 2 Axes>"
            ]
          },
          "metadata": {
            "needs_background": "light"
          }
        }
      ]
    },
    {
      "cell_type": "code",
      "source": [
        "# Models predicting capabilities \n",
        "model_tester(model2)"
      ],
      "metadata": {
        "id": "hcOPoaFrtd2y",
        "colab": {
          "base_uri": "https://localhost:8080/"
        },
        "outputId": "37df2733-cc09-4ea3-9433-75942f15c9cb"
      },
      "execution_count": 36,
      "outputs": [
        {
          "output_type": "stream",
          "name": "stdout",
          "text": [
            "Normal  :  [[0.         1.         0.11786309 1.        ]]\n",
            "Normal  :  [[0.000000e+00 1.000000e+00 3.468353e-21 1.000000e+00]]\n",
            "Normal  :  [[0.0000000e+00 1.0000000e+00 1.4985543e-34 1.0000000e+00]]\n",
            "Normal  :  [[0. 1. 1. 1.]]\n",
            "Normal  :  [[0.0000000e+00 1.0000000e+00 1.8300889e-26 1.0000000e+00]]\n",
            "Pneumonia  :  [[0.        0.9770582 0.        1.       ]]\n",
            "Covid  :  [[9.9677813e-01 3.3738968e-01 1.0000000e+00 3.3090962e-36]]\n",
            "Opacity  :  [[1. 1. 1. 0.]]\n",
            "Pneumonia  :  [[0.000000e+00 6.298179e-13 0.000000e+00 1.000000e+00]]\n",
            "Normal  :  [[0.0000000e+00 1.0000000e+00 3.7708494e-24 1.0000000e+00]]\n"
          ]
        }
      ]
    },
    {
      "cell_type": "code",
      "source": [
        "# Saving the model \n",
        "save_model(model2)"
      ],
      "metadata": {
        "id": "FEsGZlkq9tdv",
        "colab": {
          "base_uri": "https://localhost:8080/"
        },
        "outputId": "34a68223-f14f-4428-bcb8-c1256b5f9fed"
      },
      "execution_count": 37,
      "outputs": [
        {
          "output_type": "stream",
          "name": "stdout",
          "text": [
            "INFO:tensorflow:Assets written to: ram://581106e5-5a8a-411e-9333-9e8fad378072/assets\n"
          ]
        }
      ]
    },
    {
      "cell_type": "markdown",
      "source": [
        "Although the models accuracy is 72 % still it is really difficult for the model to predict.\n",
        "So the following things will be done to improve the model's performance:\n",
        "As we can see from the above results, model is still not at its \n",
        "\n",
        "1.   As we can see from the above results, model is still not at its peak so to improve it I will be changing the dropout in the prepare_model function \n",
        "2.   I will also try different types of oversampling techniques to get rid of unbalanced data.\n",
        "\n"
      ],
      "metadata": {
        "id": "wjXdB7wyc213"
      }
    }
  ]
}